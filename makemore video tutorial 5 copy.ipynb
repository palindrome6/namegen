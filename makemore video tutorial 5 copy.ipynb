{
 "cells": [
  {
   "attachments": {},
   "cell_type": "markdown",
   "id": "cf16ca3c",
   "metadata": {},
   "source": [
    "### Makemore part 5"
   ]
  },
  {
   "cell_type": "code",
   "execution_count": 139,
   "id": "ee50ed84",
   "metadata": {},
   "outputs": [],
   "source": [
    "import random\n",
    "import torch\n",
    "import torch.nn.functional as F\n",
    "import matplotlib.pyplot as plt\n",
    "import datetime\n",
    "import torch.nn as nn\n",
    "import torch.optim as optim\n",
    "%matplotlib inline"
   ]
  },
  {
   "cell_type": "code",
   "execution_count": 5,
   "id": "09cc7a09",
   "metadata": {},
   "outputs": [
    {
     "name": "stdout",
     "output_type": "stream",
     "text": [
      "['pratap', 'ishwar', 'yasmin', 'mitesh', 'vikramendra', 'vineet', 'shrimat', 'rajhansa']\n"
     ]
    }
   ],
   "source": [
    "words = open('names.txt').read().split()\n",
    "print(words[:8])\n",
    "\n",
    "chars = sorted(list(set(''.join(words))))\n",
    "ch_to_i = {s: i+1 for i, s in enumerate(chars)}\n",
    "ch_to_i['.'] = 0\n",
    "i_to_ch = {i: s for s, i in ch_to_i.items()}\n",
    "vocab_size = len(i_to_ch)"
   ]
  },
  {
   "cell_type": "code",
   "execution_count": 137,
   "id": "62f14b8f",
   "metadata": {},
   "outputs": [],
   "source": [
    "block_size = 8\n",
    "n_embd = 24\n",
    "n_hidden = 128\n",
    "torch.manual_seed(42);\n",
    "random.seed(42)"
   ]
  },
  {
   "cell_type": "code",
   "execution_count": 40,
   "id": "d6cde409",
   "metadata": {},
   "outputs": [],
   "source": [
    "random.shuffle(words)\n",
    "n1 = int(0.9*len(words))\n",
    "n2 = int(0.98*len(words))"
   ]
  },
  {
   "cell_type": "code",
   "execution_count": 41,
   "id": "a3edbc48",
   "metadata": {},
   "outputs": [
    {
     "name": "stdout",
     "output_type": "stream",
     "text": [
      "torch.Size([50552, 8]) torch.Size([50552])\n",
      "torch.Size([4400, 8]) torch.Size([4400])\n",
      "torch.Size([1109, 8]) torch.Size([1109])\n"
     ]
    }
   ],
   "source": [
    "def build_dataset(words):\n",
    "    \n",
    "    X, Y = [], []\n",
    "\n",
    "    for w in words:\n",
    " \n",
    "        context = [0] * block_size\n",
    "        for ch in w + '.':\n",
    "            ix = ch_to_i[ch]\n",
    "            X.append(context)\n",
    "            Y.append(ix)\n",
    "            \n",
    "            context = context[1:] + [ix]\n",
    "\n",
    "    X = torch.tensor(X)\n",
    "    Y = torch.tensor(Y)\n",
    "    print(X.shape, Y.shape)\n",
    "    return X, Y\n",
    "\n",
    "X_tr, y_tr = build_dataset(words[:n1])\n",
    "X_dev, y_dev = build_dataset(words[n1:n2])\n",
    "X_te, y_te = build_dataset(words[n2:])"
   ]
  },
  {
   "cell_type": "code",
   "execution_count": 124,
   "id": "5c926411",
   "metadata": {},
   "outputs": [],
   "source": [
    "class FlattenConsecutive(nn.Module):\n",
    "\n",
    "  def __init__(self, n):\n",
    "    super().__init__()\n",
    "    self.n = n\n",
    "    \n",
    "  def __call__(self, x):\n",
    "    B, T, C = x.shape\n",
    "    x = x.view(B, T//self.n, C*self.n)\n",
    "    if x.shape[1] == 1:\n",
    "      x = x.squeeze(1)\n",
    "    self.out = x\n",
    "    return self.out\n",
    "  \n",
    "\n",
    "class BatchNorm1d(nn.Module):\n",
    "  \n",
    "  def __init__(self, dim, eps=1e-5, momentum=0.1):\n",
    "    super().__init__()\n",
    "    self.eps = eps\n",
    "    self.momentum = momentum\n",
    "    self.training = True\n",
    "    # parameters (trained with backprop)\n",
    "    self.gamma = torch.ones(dim)\n",
    "    self.beta = torch.zeros(dim)\n",
    "    # buffers (trained with a running 'momentum update')\n",
    "    self.running_mean = torch.zeros(dim)\n",
    "    self.running_var = torch.ones(dim)\n",
    "  \n",
    "  def __call__(self, x):\n",
    "    # calculate the forward pass\n",
    "    if self.training:\n",
    "      if x.ndim == 2:\n",
    "        dim = 0\n",
    "      elif x.ndim == 3:\n",
    "        dim = (0,1)\n",
    "      xmean = x.mean(dim, keepdim=True) # batch mean\n",
    "      xvar = x.var(dim, keepdim=True) # batch variance\n",
    "    else:\n",
    "      xmean = self.running_mean\n",
    "      xvar = self.running_var\n",
    "    xhat = (x - xmean) / torch.sqrt(xvar + self.eps) # normalize to unit variance\n",
    "    self.out = self.gamma * xhat + self.beta\n",
    "    # update the buffers\n",
    "    if self.training:\n",
    "      with torch.no_grad():\n",
    "        self.running_mean = (1 - self.momentum) * self.running_mean + self.momentum * xmean\n",
    "        self.running_var = (1 - self.momentum) * self.running_var + self.momentum * xvar\n",
    "    return self.out\n",
    "  \n",
    "  def parameters(self):\n",
    "    return [self.gamma, self.beta]\n",
    "  "
   ]
  },
  {
   "cell_type": "code",
   "execution_count": 145,
   "id": "63b972e4",
   "metadata": {},
   "outputs": [],
   "source": [
    "model = nn.Sequential(\n",
    "    nn.Embedding(vocab_size, n_embd),\n",
    "    FlattenConsecutive(2), \n",
    "    nn.Linear(n_embd * 2, n_hidden, bias=False), \n",
    "    BatchNorm1d(n_hidden), \n",
    "    nn.Tanh(),\n",
    "    FlattenConsecutive(2), \n",
    "    nn.Linear(n_hidden * 2, n_hidden, bias=False), \n",
    "    BatchNorm1d(n_hidden), \n",
    "    nn.Tanh(),\n",
    "    FlattenConsecutive(2), \n",
    "    nn.Linear(n_hidden * 2, n_hidden, bias=False), \n",
    "    BatchNorm1d(n_hidden), \n",
    "    nn.Tanh(),\n",
    "    nn.Linear(n_hidden, vocab_size)\n",
    ")\n",
    "\n",
    "# parameter init\n",
    "with torch.no_grad():\n",
    "  model[-1].weight *= 0.1"
   ]
  },
  {
   "cell_type": "code",
   "execution_count": 146,
   "id": "c2e615db",
   "metadata": {},
   "outputs": [],
   "source": [
    "criterion = nn.CrossEntropyLoss()\n",
    "optimizer = optim.SGD(model.parameters(), lr=0.1)\n",
    "scheduler = optim.lr_scheduler.StepLR(optimizer, step_size=35000, gamma=0.1)"
   ]
  },
  {
   "cell_type": "code",
   "execution_count": 147,
   "id": "002b1fa9",
   "metadata": {},
   "outputs": [
    {
     "name": "stdout",
     "output_type": "stream",
     "text": [
      "      0/  50000: 3.2973\n",
      "   5000/  50000: 2.0290\n",
      "  10000/  50000: 1.8019\n",
      "  15000/  50000: 1.8063\n",
      "  20000/  50000: 1.9734\n",
      "  25000/  50000: 1.7538\n",
      "  30000/  50000: 1.8057\n",
      "  35000/  50000: 1.9867\n",
      "  40000/  50000: 1.3184\n",
      "  45000/  50000: 1.7955\n"
     ]
    }
   ],
   "source": [
    "max_steps = 50000\n",
    "batch_size = 32\n",
    "\n",
    "lossi = []\n",
    "for i in range(max_steps):\n",
    "  \n",
    "  # minibatch construct\n",
    "  ix = torch.randint(0, X_tr.shape[0], (batch_size,))\n",
    "  Xb, Yb = X_tr[ix], y_tr[ix] # batch X,Y\n",
    "  \n",
    "  optimizer.zero_grad()\n",
    "\n",
    "  logits = model(Xb)\n",
    "  loss = F.cross_entropy(logits, Yb) # loss function\n",
    "  loss.backward()\n",
    "  optimizer.step()\n",
    "\n",
    "  # lv = split_loss('val')\n",
    "  # track stats\n",
    "  if i % 5000 == 0: # print every once in a while\n",
    "    print(f'{i:7d}/{max_steps:7d}: {loss.item():.4f}')\n",
    "    # print(f'{i:7d}/{max_steps:7d}: {lv.item():.4f}')\n",
    "\n",
    "  \n",
    "  lossi.append(loss.log10().item())\n",
    "  # loss_val.append(lv.log10().item())"
   ]
  },
  {
   "cell_type": "code",
   "execution_count": 148,
   "id": "957dc708",
   "metadata": {},
   "outputs": [
    {
     "data": {
      "text/plain": [
       "[<matplotlib.lines.Line2D at 0x1f7e1d7bd30>]"
      ]
     },
     "execution_count": 148,
     "metadata": {},
     "output_type": "execute_result"
    },
    {
     "data": {
      "image/png": "[encoded data removed]",
      "text/plain": [
       "<Figure size 640x480 with 1 Axes>"
      ]
     },
     "metadata": {},
     "output_type": "display_data"
    }
   ],
   "source": [
    "plt.plot(torch.tensor(lossi).view(-1, 1000).mean(1), c='green')"
   ]
  },
  {
   "cell_type": "code",
   "execution_count": 149,
   "id": "deeebca9",
   "metadata": {},
   "outputs": [],
   "source": [
    "# put layers into eval mode (needed for batchnorm especially)\n",
    "for layer in model:\n",
    "    layer.training = False\n",
    "    \n",
    "# evaluate the loss\n",
    "@torch.no_grad() # this decorator disables gradient tracking inside pytorch\n",
    "def split_loss(split):\n",
    "  x,y = {\n",
    "    'train': (X_tr, y_tr),\n",
    "    'val': (X_dev, y_dev),\n",
    "    'test': (X_te, y_te),\n",
    "  }[split]\n",
    "  logits = model(x)\n",
    "  loss = F.cross_entropy(logits, y)\n",
    "  return loss"
   ]
  },
  {
   "cell_type": "code",
   "execution_count": 150,
   "id": "55eb5071",
   "metadata": {},
   "outputs": [
    {
     "name": "stdout",
     "output_type": "stream",
     "text": [
      "tensor(1.5487)\n",
      "tensor(1.9867)\n"
     ]
    }
   ],
   "source": [
    "loss_tr = split_loss('train')\n",
    "loss_val = split_loss('val')\n",
    "print(loss_tr)\n",
    "print(loss_val)"
   ]
  },
  {
   "cell_type": "code",
   "execution_count": 160,
   "id": "866cec71",
   "metadata": {},
   "outputs": [
    {
     "name": "stdout",
     "output_type": "stream",
     "text": [
      "ganish.\n",
      "panak.\n",
      "sunil.\n",
      "abeer.\n",
      "surin.\n",
      "meera.\n",
      "hradbaha.\n",
      "duruda.\n",
      "usuni.\n",
      "saravan.\n",
      "vikshem.\n",
      "toyesa.\n",
      "kardarjay.\n",
      "aranyuktamani.\n",
      "arangoet.\n",
      "virendra.\n",
      "vyogalya.\n",
      "mahada.\n",
      "saarrendra.\n",
      "dayant.\n"
     ]
    }
   ],
   "source": [
    "# sample from the model\n",
    "with torch.no_grad():\n",
    "  for _ in range(20):\n",
    "      \n",
    "      out = []\n",
    "      context = [0] * block_size # initialize with all ...\n",
    "      while True:\n",
    "        # forward pass the neural net\n",
    "        logits = model(torch.tensor([context]))\n",
    "        probs = F.softmax(logits, dim=1)\n",
    "        # sample from the distribution\n",
    "        ix = torch.multinomial(probs, num_samples=1).item()\n",
    "        # shift the context window and track the samples\n",
    "        context = context[1:] + [ix]\n",
    "        out.append(ix)\n",
    "        # if we sample the special '.' token, break\n",
    "        if ix == 0:\n",
    "          break\n",
    "      \n",
    "      print(''.join(i_to_ch[i] for i in out)) # decode and print the generated word"
   ]
  },
  {
   "cell_type": "code",
   "execution_count": 154,
   "id": "a60c2dfa",
   "metadata": {},
   "outputs": [],
   "source": [
    "\n",
    "now = datetime.datetime.now()\n",
    "now_dt_str = now.strftime('%Y-%m-%d %H%M%S')\n",
    "PATH = \"{}.pt\".format(now_dt_str)\n",
    "\n",
    "torch.save(model.state_dict(), 'models/{}'.format(PATH))\n",
    "\n",
    "\n",
    "line = '{},{},{},{},{},{},{},{}\\n'.format(PATH,\n",
    "                                     block_size, \n",
    "                                     n_embd, \n",
    "                                     n_hidden, \n",
    "                                     max_steps, \n",
    "                                     batch_size, \n",
    "                                     loss_tr, \n",
    "                                     loss_val)\n",
    "\n",
    "with open('models/training_details.csv', 'a+') as outfile:\n",
    "  outfile.write(line)"
   ]
  },
  {
   "cell_type": "code",
   "execution_count": 165,
   "id": "4d162f95",
   "metadata": {},
   "outputs": [],
   "source": [
    "torch.save(model, 'models/temp.pyt')"
   ]
  },
  {
   "cell_type": "code",
   "execution_count": 164,
   "id": "d02cf828",
   "metadata": {},
   "outputs": [
    {
     "name": "stdout",
     "output_type": "stream",
     "text": [
      "tensor(2.8783)\n",
      "tensor(3.3423)\n",
      "srigdshil.\n",
      "gragrebihardhiprasad.\n",
      "tnutbikdgayotti.\n",
      "trnvantesh.\n",
      "rhildsth.\n",
      "rrichikmptrnqhirajjnwitm.\n",
      "rchiraschinmndrthupta.\n",
      "chetr.\n",
      "ngnnadhankara.\n",
      "smryrthamady.\n",
      "khyannakshirajima.\n",
      "trighnest.\n",
      "rvnitraghrma.\n",
      "rhditvshankth.\n",
      "ryunika.\n",
      "ghladbhadrmsurajendraj.\n",
      "ryisthamagkaliksh.\n",
      "rchilmsincj.\n",
      "rjitisri.\n",
      "rhillva.\n"
     ]
    }
   ],
   "source": [
    "# Load\n",
    "model_inf = nn.Sequential(\n",
    "    nn.Embedding(vocab_size, n_embd),\n",
    "    FlattenConsecutive(2), \n",
    "    nn.Linear(n_embd * 2, n_hidden, bias=False), \n",
    "    BatchNorm1d(n_hidden), \n",
    "    nn.Tanh(),\n",
    "    FlattenConsecutive(2), \n",
    "    nn.Linear(n_hidden * 2, n_hidden, bias=False), \n",
    "    BatchNorm1d(n_hidden), \n",
    "    nn.Tanh(),\n",
    "    FlattenConsecutive(2), \n",
    "    nn.Linear(n_hidden * 2, n_hidden, bias=False), \n",
    "    BatchNorm1d(n_hidden), \n",
    "    nn.Tanh(),\n",
    "    nn.Linear(n_hidden, vocab_size)\n",
    ")\n",
    "model_inf.load_state_dict(torch.load('models/{}'.format(PATH)))\n",
    "for layer in model_inf:\n",
    "    layer.training = False\n",
    "model_inf.eval()\n",
    "\n",
    "@torch.no_grad() # this decorator disables gradient tracking inside pytorch\n",
    "def split_loss_inf(split):\n",
    "  x,y = {\n",
    "    'train': (X_tr, y_tr),\n",
    "    'val': (X_dev, y_dev),\n",
    "    'test': (X_te, y_te),\n",
    "  }[split]\n",
    "  logits = model_inf(x)\n",
    "  loss = F.cross_entropy(logits, y)\n",
    "  return loss\n",
    "\n",
    "loss_tr_inf = split_loss_inf('train')\n",
    "loss_val_inf = split_loss_inf('val')\n",
    "print(loss_tr_inf)\n",
    "print(loss_val_inf)\n",
    "\n",
    "# sample from the model\n",
    "with torch.no_grad():\n",
    "  for _ in range(20):\n",
    "      \n",
    "      out = []\n",
    "      context = [0] * block_size # initialize with all ...\n",
    "      while True:\n",
    "        # forward pass the neural net\n",
    "        logits = model_inf(torch.tensor([context]))\n",
    "        probs = F.softmax(logits, dim=1)\n",
    "        # sample from the distribution\n",
    "        ix = torch.multinomial(probs, num_samples=1).item()\n",
    "        # shift the context window and track the samples\n",
    "        context = context[1:] + [ix]\n",
    "        out.append(ix)\n",
    "        # if we sample the special '.' token, break\n",
    "        if ix == 0:\n",
    "          break\n",
    "      \n",
    "      print(''.join(i_to_ch[i] for i in out)) # decode and print the generated word\n"
   ]
  },
  {
   "cell_type": "code",
   "execution_count": 166,
   "id": "ee48fb51",
   "metadata": {},
   "outputs": [
    {
     "name": "stdout",
     "output_type": "stream",
     "text": [
      "tensor(1.5487)\n",
      "tensor(1.9867)\n",
      "vipluba.\n",
      "vibhut.\n",
      "bakrusha.\n",
      "parang.\n",
      "souchistha.\n",
      "ritu.\n",
      "aarukia.\n",
      "kritunjal.\n",
      "ruthesh.\n",
      "suraagh.\n",
      "ratgunarnan.\n",
      "parvip.\n",
      "parvika.\n",
      "lakshmivara.\n",
      "nabhi.\n",
      "nitesh.\n",
      "kusum.\n",
      "tanir.\n",
      "aachi.\n",
      "tanisha.\n"
     ]
    }
   ],
   "source": [
    "model3 = torch.load('models/temp.pyt')\n",
    "for layer in model3:\n",
    "    layer.training = False\n",
    "model3.eval()\n",
    "\n",
    "@torch.no_grad() # this decorator disables gradient tracking inside pytorch\n",
    "def split_loss_inf(split):\n",
    "  x,y = {\n",
    "    'train': (X_tr, y_tr),\n",
    "    'val': (X_dev, y_dev),\n",
    "    'test': (X_te, y_te),\n",
    "  }[split]\n",
    "  logits = model3(x)\n",
    "  loss = F.cross_entropy(logits, y)\n",
    "  return loss\n",
    "\n",
    "loss_tr_inf = split_loss_inf('train')\n",
    "loss_val_inf = split_loss_inf('val')\n",
    "print(loss_tr_inf)\n",
    "print(loss_val_inf)\n",
    "\n",
    "# sample from the model\n",
    "with torch.no_grad():\n",
    "  for _ in range(20):\n",
    "      \n",
    "      out = []\n",
    "      context = [0] * block_size # initialize with all ...\n",
    "      while True:\n",
    "        # forward pass the neural net\n",
    "        logits = model3(torch.tensor([context]))\n",
    "        probs = F.softmax(logits, dim=1)\n",
    "        # sample from the distribution\n",
    "        ix = torch.multinomial(probs, num_samples=1).item()\n",
    "        # shift the context window and track the samples\n",
    "        context = context[1:] + [ix]\n",
    "        out.append(ix)\n",
    "        # if we sample the special '.' token, break\n",
    "        if ix == 0:\n",
    "          break\n",
    "      \n",
    "      print(''.join(i_to_ch[i] for i in out)) # decode and print the generated word"
   ]
  }
 ],
 "metadata": {
  "kernelspec": {
   "display_name": "NN_AK",
   "language": "python",
   "name": "python3"
  },
  "language_info": {
   "codemirror_mode": {
    "name": "ipython",
    "version": 3
   },
   "file_extension": ".py",
   "mimetype": "text/x-python",
   "name": "python",
   "nbconvert_exporter": "python",
   "pygments_lexer": "ipython3",
   "version": "3.8.0"
  },
  "vscode": {
   "interpreter": {
    "hash": "a3477e297ec0e4c144d953bb2f66c0ab5be4648e9986a1b37b0efdbf69909182"
   }
  }
 },
 "nbformat": 4,
 "nbformat_minor": 5
}
